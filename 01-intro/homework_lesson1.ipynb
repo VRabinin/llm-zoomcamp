{
 "cells": [
  {
   "cell_type": "markdown",
   "id": "6b31d6ce-6bf6-47dc-93bd-edbf6e12aca2",
   "metadata": {},
   "source": [
    "# Q1. Running Elastic"
   ]
  },
  {
   "cell_type": "code",
   "execution_count": null,
   "id": "424d5a74-fde1-4629-b776-1a2c07a04c7c",
   "metadata": {},
   "outputs": [],
   "source": [
    "!pip install tiktoken"
   ]
  },
  {
   "cell_type": "code",
   "execution_count": 71,
   "id": "65db9c35-e94b-42e6-8e2a-e57082e75683",
   "metadata": {},
   "outputs": [],
   "source": [
    "from elasticsearch import Elasticsearch\n",
    "import json\n",
    "from tqdm.auto import tqdm\n",
    "import tiktoken\n",
    "from openai import OpenAI"
   ]
  },
  {
   "cell_type": "code",
   "execution_count": 6,
   "id": "c0298305-f783-4547-969a-31e91d35ca49",
   "metadata": {},
   "outputs": [],
   "source": [
    "es_client = Elasticsearch('http://localhost:9200') "
   ]
  },
  {
   "cell_type": "code",
   "execution_count": 7,
   "id": "1e837731-c9dd-48b1-8f7d-b3c6c4592652",
   "metadata": {},
   "outputs": [
    {
     "data": {
      "text/plain": [
       "'42f05b9372a9a4a470db3b52817899b99a76ee73'"
      ]
     },
     "execution_count": 7,
     "metadata": {},
     "output_type": "execute_result"
    }
   ],
   "source": [
    "es_client.info().body['version']['build_hash']"
   ]
  },
  {
   "cell_type": "markdown",
   "id": "ac66c35f-0031-4752-96c7-e7b44e9a8fe7",
   "metadata": {},
   "source": [
    "# Q2. Indexing the data"
   ]
  },
  {
   "cell_type": "code",
   "execution_count": 9,
   "id": "aca19026-982f-4756-bc2e-48e2bd91d3dc",
   "metadata": {},
   "outputs": [],
   "source": [
    "index_settings = {\n",
    "    \"settings\": {\n",
    "        \"number_of_shards\": 1,\n",
    "        \"number_of_replicas\": 0\n",
    "    },\n",
    "    \"mappings\": {\n",
    "        \"properties\": {\n",
    "            \"text\": {\"type\": \"text\"},\n",
    "            \"section\": {\"type\": \"text\"},\n",
    "            \"question\": {\"type\": \"text\"},\n",
    "            \"course\": {\"type\": \"keyword\"} \n",
    "        }\n",
    "    }\n",
    "}\n",
    "\n",
    "index_name = \"course-questions-vrn\"\n"
   ]
  },
  {
   "cell_type": "code",
   "execution_count": null,
   "id": "feebdb0e-0415-44a9-b421-b2f5c2fb8f2c",
   "metadata": {},
   "outputs": [],
   "source": [
    "es_client.indices.create(index=index_name, body=index_settings)"
   ]
  },
  {
   "cell_type": "code",
   "execution_count": 10,
   "id": "4beeb6a0-eb36-495e-8c39-a4d4693e679d",
   "metadata": {},
   "outputs": [],
   "source": [
    "with open('documents.json', 'rt') as file_in:\n",
    "    docs_raw = json.load(file_in)"
   ]
  },
  {
   "cell_type": "code",
   "execution_count": 12,
   "id": "dc1d27a3-f499-49a4-b4f4-487884477c46",
   "metadata": {},
   "outputs": [],
   "source": [
    "documents = []\n",
    "\n",
    "for course_dict in docs_raw:\n",
    "    for doc in course_dict['documents']:\n",
    "        doc['course'] = course_dict['course']\n",
    "        documents.append(doc)"
   ]
  },
  {
   "cell_type": "code",
   "execution_count": 13,
   "id": "75029e34-cbb0-47cc-9a82-56ee482b49a6",
   "metadata": {},
   "outputs": [
    {
     "name": "stderr",
     "output_type": "stream",
     "text": [
      "100%|█████████████████████████████| 948/948 [00:23<00:00, 39.93it/s]\n"
     ]
    }
   ],
   "source": [
    "for doc in tqdm(documents):\n",
    "    es_client.index(index=index_name, document=doc)"
   ]
  },
  {
   "cell_type": "markdown",
   "id": "a80a0d24-5fe9-41b8-9c93-cc20ee05e555",
   "metadata": {},
   "source": [
    "# Q3. Searching"
   ]
  },
  {
   "cell_type": "code",
   "execution_count": 46,
   "id": "09b4642e-2c2a-45cb-b3a1-48b18d533de6",
   "metadata": {},
   "outputs": [],
   "source": [
    "query = 'How do I execute a command in a running docker container?'"
   ]
  },
  {
   "cell_type": "code",
   "execution_count": 47,
   "id": "14913ef3-9c2f-4719-8ee9-7cea9f65cf44",
   "metadata": {},
   "outputs": [],
   "source": [
    "search_query = {\n",
    "    \"size\": 5,\n",
    "    \"query\": {\n",
    "        \"bool\": {\n",
    "            \"must\": {\n",
    "                \"multi_match\": {\n",
    "                    \"query\": query,\n",
    "                    \"fields\": [\"question^4\", \"text\"],\n",
    "                    \"type\": \"best_fields\"\n",
    "                }\n",
    "#            },\n",
    "#            \"filter\": {\n",
    "#                \"term\": {\n",
    "#                    \"course\": \"data-engineering-zoomcamp\"\n",
    "#                }\n",
    "            }\n",
    "        }\n",
    "    }\n",
    "}\n",
    "    \n",
    "response = es_client.search(index=index_name, body=search_query)"
   ]
  },
  {
   "cell_type": "code",
   "execution_count": 48,
   "id": "d91f4331-2d60-45ed-add0-4a4c1d987368",
   "metadata": {},
   "outputs": [
    {
     "data": {
      "text/plain": [
       "84.050095"
      ]
     },
     "execution_count": 48,
     "metadata": {},
     "output_type": "execute_result"
    }
   ],
   "source": [
    "response['hits']['hits'][0]['_score']"
   ]
  },
  {
   "cell_type": "markdown",
   "id": "e88cdd50-bf2f-4aba-9044-0ed7dcc5e175",
   "metadata": {},
   "source": [
    "# Q4. Filtering"
   ]
  },
  {
   "cell_type": "code",
   "execution_count": 49,
   "id": "3b04861f-54bb-43c3-b816-ba91ca17f9e5",
   "metadata": {},
   "outputs": [],
   "source": [
    "search_query = {\n",
    "    \"size\": 3,\n",
    "    \"query\": {\n",
    "        \"bool\": {\n",
    "            \"must\": {\n",
    "                \"multi_match\": {\n",
    "                    \"query\": query,\n",
    "                    \"fields\": [\"question^4\", \"text\"],\n",
    "                    \"type\": \"best_fields\"\n",
    "                }\n",
    "            },\n",
    "            \"filter\": {\n",
    "                \"term\": {\n",
    "                    \"course\": \"machine-learning-zoomcamp\"\n",
    "                }\n",
    "            }\n",
    "        }\n",
    "    }\n",
    "}"
   ]
  },
  {
   "cell_type": "code",
   "execution_count": 55,
   "id": "e9189b13-1514-43f1-9ef6-36595b0f96de",
   "metadata": {},
   "outputs": [],
   "source": [
    "response = es_client.search(index=index_name, body=search_query)"
   ]
  },
  {
   "cell_type": "code",
   "execution_count": 56,
   "id": "c173144d-e47c-486f-85de-25ef2b564268",
   "metadata": {},
   "outputs": [],
   "source": [
    "result_docs = []\n",
    "    \n",
    "for hit in response['hits']['hits']:\n",
    "    result_docs.append(hit['_source'])"
   ]
  },
  {
   "cell_type": "code",
   "execution_count": 51,
   "id": "e25071f1-72e7-48d2-8bd8-19d2d3315b59",
   "metadata": {},
   "outputs": [
    {
     "data": {
      "text/plain": [
       "'How do I copy files from a different folder into docker container’s working directory?'"
      ]
     },
     "execution_count": 51,
     "metadata": {},
     "output_type": "execute_result"
    }
   ],
   "source": [
    "response['hits']['hits'][2]['_source']['question']\n",
    "#response"
   ]
  },
  {
   "cell_type": "markdown",
   "id": "2d4bdbb0-67b3-410f-abc9-deceb211ce19",
   "metadata": {},
   "source": [
    "# Q5. Building a prompt"
   ]
  },
  {
   "cell_type": "code",
   "execution_count": 61,
   "id": "e3557714-4273-4757-a0da-c8de2be5e306",
   "metadata": {},
   "outputs": [],
   "source": [
    "def build_prompt(query, search_results):\n",
    "    context_template = \"\"\"\n",
    "Q: {question}\n",
    "A: {text}\n",
    "\"\"\".strip() \n",
    "    \n",
    "    prompt_template = \"\"\"\n",
    "You're a course teaching assistant. Answer the QUESTION based on the CONTEXT from the FAQ database.\n",
    "Use only the facts from the CONTEXT when answering the QUESTION.\n",
    "\n",
    "QUESTION: {question}\n",
    "\n",
    "CONTEXT:\n",
    "{context}\n",
    "\"\"\".strip()\n",
    "\n",
    "    context = \"\"\n",
    "    \n",
    "    for doc in search_results:\n",
    "        context = context + f\"{context_template.format(question=doc['question'], text=doc['text'])}\\n\\n\"\n",
    "    \n",
    "    prompt = prompt_template.format(question=query, context=context).strip()\n",
    "    return prompt"
   ]
  },
  {
   "cell_type": "code",
   "execution_count": 62,
   "id": "02f6bcd8-d5ee-4279-baa2-45e41055abba",
   "metadata": {},
   "outputs": [],
   "source": [
    "prompt = build_prompt(query, result_docs)"
   ]
  },
  {
   "cell_type": "code",
   "execution_count": 64,
   "id": "112b8d5e-efa5-4a1b-b062-37eee1cf10b6",
   "metadata": {},
   "outputs": [
    {
     "data": {
      "text/plain": [
       "1462"
      ]
     },
     "execution_count": 64,
     "metadata": {},
     "output_type": "execute_result"
    }
   ],
   "source": [
    "len(prompt)"
   ]
  },
  {
   "cell_type": "markdown",
   "id": "db99efd7-0f6c-4342-9051-3e03ac648e05",
   "metadata": {},
   "source": [
    "# Q6. Tokens"
   ]
  },
  {
   "cell_type": "code",
   "execution_count": 68,
   "id": "f1edc6fc-7e12-4056-b9d6-fb0c9537bd15",
   "metadata": {},
   "outputs": [],
   "source": [
    "encoding = tiktoken.encoding_for_model(\"gpt-4o\")"
   ]
  },
  {
   "cell_type": "code",
   "execution_count": 69,
   "id": "1011c7f9-3fd3-4ab1-b334-519bb7543676",
   "metadata": {},
   "outputs": [
    {
     "data": {
      "text/plain": [
       "322"
      ]
     },
     "execution_count": 69,
     "metadata": {},
     "output_type": "execute_result"
    }
   ],
   "source": [
    "len(encoding.encode(prompt))"
   ]
  },
  {
   "cell_type": "markdown",
   "id": "ccbdf2a9-88b2-4f5f-9959-ece9a2840dc6",
   "metadata": {},
   "source": [
    "# Extra's"
   ]
  },
  {
   "cell_type": "code",
   "execution_count": 72,
   "id": "23717a3f-ceda-456a-a5fd-7ae523e3b55e",
   "metadata": {},
   "outputs": [],
   "source": [
    "client = OpenAI()"
   ]
  },
  {
   "cell_type": "code",
   "execution_count": 73,
   "id": "33587933-0ddf-438b-b22c-75c93b208c13",
   "metadata": {},
   "outputs": [
    {
     "data": {
      "text/plain": [
       "'To execute a command in a running Docker container, you should first find the container ID by running the `docker ps` command. Once you have the container ID, use the `docker exec` command to execute the desired command inside the container. \\n\\nHere is how you can do it step-by-step:\\n\\n1. Find the container ID:\\n   ```sh\\n   docker ps\\n   ```\\n\\n2. Execute a command inside the container (e.g., start a bash session):\\n   ```sh\\n   docker exec -it <container-id> bash\\n   ```'"
      ]
     },
     "execution_count": 73,
     "metadata": {},
     "output_type": "execute_result"
    }
   ],
   "source": [
    "response = client.chat.completions.create(\n",
    "    model='gpt-4o',\n",
    "    messages=[{\"role\": \"user\", \"content\": prompt}]\n",
    ")\n",
    "\n",
    "response.choices[0].message.content"
   ]
  },
  {
   "cell_type": "code",
   "execution_count": 75,
   "id": "00cde4a8-5215-4c99-ae6e-dbab8c1bf310",
   "metadata": {},
   "outputs": [
    {
     "data": {
      "text/plain": [
       "442"
      ]
     },
     "execution_count": 75,
     "metadata": {},
     "output_type": "execute_result"
    }
   ],
   "source": [
    "response.usage.prompt_tokens"
   ]
  },
  {
   "cell_type": "code",
   "execution_count": 76,
   "id": "f5275230-e19c-4a3d-be12-4790ba67e058",
   "metadata": {},
   "outputs": [
    {
     "data": {
      "text/plain": [
       "113"
      ]
     },
     "execution_count": 76,
     "metadata": {},
     "output_type": "execute_result"
    }
   ],
   "source": [
    "response.usage.completion_tokens"
   ]
  },
  {
   "cell_type": "code",
   "execution_count": 77,
   "id": "3b094f91-8644-473c-94e2-8d59d09a5507",
   "metadata": {},
   "outputs": [
    {
     "data": {
      "text/plain": [
       "442"
      ]
     },
     "execution_count": 77,
     "metadata": {},
     "output_type": "execute_result"
    }
   ],
   "source": [
    "response.usage.total_tokens"
   ]
  }
 ],
 "metadata": {
  "kernelspec": {
   "display_name": "Python 3 (ipykernel)",
   "language": "python",
   "name": "python3"
  },
  "language_info": {
   "codemirror_mode": {
    "name": "ipython",
    "version": 3
   },
   "file_extension": ".py",
   "mimetype": "text/x-python",
   "name": "python",
   "nbconvert_exporter": "python",
   "pygments_lexer": "ipython3",
   "version": "3.10.14"
  }
 },
 "nbformat": 4,
 "nbformat_minor": 5
}
