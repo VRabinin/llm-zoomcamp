{
 "cells": [
  {
   "cell_type": "code",
   "execution_count": 1,
   "metadata": {},
   "outputs": [],
   "source": [
    "from elasticsearch import Elasticsearch"
   ]
  },
  {
   "cell_type": "code",
   "execution_count": 34,
   "metadata": {},
   "outputs": [],
   "source": [
    "connection_string = 'http://localhost:9200'"
   ]
  },
  {
   "cell_type": "code",
   "execution_count": 35,
   "metadata": {},
   "outputs": [],
   "source": [
    "es_client = Elasticsearch(connection_string)"
   ]
  },
  {
   "cell_type": "code",
   "execution_count": 36,
   "metadata": {},
   "outputs": [],
   "source": [
    "query_text = 'When is the next cohort?'"
   ]
  },
  {
   "cell_type": "code",
   "execution_count": 37,
   "metadata": {},
   "outputs": [
    {
     "name": "stdout",
     "output_type": "stream",
     "text": [
      "Sending query: {'bool': {'must': {'multi_match': {'query': 'When is the next cohort?', 'fields': ['text', 'question', 'course', 'title'], 'type': 'best_fields'}}}}\n"
     ]
    }
   ],
   "source": [
    "query = {\n",
    "    \"bool\": {\n",
    "        \"must\": {\n",
    "            \"multi_match\": \n",
    "                {\"query\": query_text, \n",
    "                    \"fields\": [\"text\", \"question\",\"course\",\"title\"],\n",
    "                    \"type\": \"best_fields\"\n",
    "                }\n",
    "        },\n",
    "    }\n",
    "}\n",
    "print(\"Sending query:\", query)"
   ]
  },
  {
   "cell_type": "code",
   "execution_count": 38,
   "metadata": {},
   "outputs": [],
   "source": [
    "index_name = 'documents_20240819_2446'\n"
   ]
  },
  {
   "cell_type": "code",
   "execution_count": 39,
   "metadata": {},
   "outputs": [
    {
     "name": "stdout",
     "output_type": "stream",
     "text": [
      "Raw response from Elasticsearch: {'took': 11, 'timed_out': False, '_shards': {'total': 1, 'successful': 1, 'skipped': 0, 'failed': 0}, 'hits': {'total': {'value': 69, 'relation': 'eq'}, 'max_score': 8.457801, 'hits': [{'_index': 'documents_20240819_2446', '_id': '8Fe9aZEBD4y5RrGeHC82', '_score': 8.457801, '_source': {'text': 'Summer 2025 (via Alexey).', 'section': 'General course-related questions', 'question': 'When will the course be offered next?', 'course': 'llm-zoomcamp', 'document_id': 'bf024675'}}, {'_index': 'documents_20240819_2446', '_id': 'Kle9aZEBD4y5RrGeHDDl', '_score': 5.785109, '_ignored': ['text.keyword'], '_source': {'text': \"No, you can only get a certificate if you finish the course with a “live” cohort.\\nWe don't award certificates for the self-paced mode. The reason is you need to peer-review 3 capstone(s) after submitting your own project.\\nYou can only peer-review projects at the time the course is running; after the form is closed and the peer-review list is compiled.\", 'section': 'General course-related questions', 'question': 'Certificate - Can I follow the course in a self-paced mode and get a certificate?', 'course': 'llm-zoomcamp', 'document_id': 'a705279d'}}, {'_index': 'documents_20240819_2446', '_id': '5le9aZEBD4y5RrGeHC8Q', '_score': 4.424127, '_source': {'text': 'This is likely to be an error when indexing the data. First you need to add the index settings before adding the data to the indices, then you will be good to go applying your filters and query.', 'section': 'Module 1: Introduction', 'question': 'Returning Empty list after filtering my query (HW Q3)', 'course': 'llm-zoomcamp', 'document_id': '190fc999'}}, {'_index': 'documents_20240819_2446', '_id': 'DFe9aZEBD4y5RrGeHDCY', '_score': 4.2112226, '_ignored': ['text.keyword'], '_source': {'text': 'Cosine similarity is a measure used to calculate the similarity between two non-zero vectors, often used in text analysis to determine how similar two documents are based on their content. This metric computes the cosine of the angle between two vectors, which are typically word counts or TF-IDF values of the documents. The cosine similarity value ranges from -1 to 1, where 1 indicates that the vectors are identical, 0 indicates that the vectors are orthogonal (no similarity), and -1 represents completely opposite vectors.', 'section': 'Module 3: X', 'question': 'What is the cosine similarity?', 'course': 'llm-zoomcamp', 'document_id': 'ee355823'}}, {'_index': 'documents_20240819_2446', '_id': 'KFe9aZEBD4y5RrGeHDDe', '_score': 4.0837674, '_source': {'text': 'The error indicates that you have not changed all instances of “employee_handbook” to “homework” in your pipeline settings', 'section': 'Workshops: dlthub', 'question': 'There is an error when opening the table using dbtable = db.open_table(\"notion_pages___homework\"): FileNotFoundError: Table notion_pages___homework does not exist.Please first call db.create_table(notion_pages___homework, data)', 'course': 'llm-zoomcamp', 'document_id': '6cf805ca'}}]}}\n",
      "8Fe9aZEBD4y5RrGeHC82\n"
     ]
    }
   ],
   "source": [
    "response = es_client.search(\n",
    "    index=index_name,\n",
    "    body={\n",
    "        \"size\": 5,\n",
    "        \"query\": query,\n",
    "    },\n",
    ")\n",
    "\n",
    "print(\"Raw response from Elasticsearch:\", response)\n",
    "print(response['hits']['hits'][0]['_id'])"
   ]
  },
  {
   "cell_type": "code",
   "execution_count": 40,
   "metadata": {},
   "outputs": [],
   "source": [
    "index_name = 'documents_20240819_5901'"
   ]
  },
  {
   "cell_type": "code",
   "execution_count": 41,
   "metadata": {},
   "outputs": [
    {
     "name": "stdout",
     "output_type": "stream",
     "text": [
      "Raw response from Elasticsearch: {'took': 4, 'timed_out': False, '_shards': {'total': 1, 'successful': 1, 'skipped': 0, 'failed': 0}, 'hits': {'total': {'value': 68, 'relation': 'eq'}, 'max_score': 17.247387, 'hits': [{'_index': 'documents_20240819_5901', '_id': 'TFfcaZEBD4y5RrGedTH5', '_score': 17.247387, '_source': {'text': 'Summer 2026.', 'section': 'General course-related questions', 'question': 'When is the next cohort?', 'course': 'llm-zoomcamp', 'document_id': 'b6fa77f3'}}, {'_index': 'documents_20240819_5901', '_id': 'hlfcaZEBD4y5RrGedjFk', '_score': 5.781021, '_ignored': ['text.keyword'], '_source': {'text': \"No, you can only get a certificate if you finish the course with a “live” cohort.\\nWe don't award certificates for the self-paced mode. The reason is you need to peer-review 3 capstone(s) after submitting your own project.\\nYou can only peer-review projects at the time the course is running; after the form is closed and the peer-review list is compiled.\", 'section': 'General course-related questions', 'question': 'Certificate - Can I follow the course in a self-paced mode and get a certificate?', 'course': 'llm-zoomcamp', 'document_id': 'a705279d'}}, {'_index': 'documents_20240819_5901', '_id': 'QlfcaZEBD4y5RrGedTHj', '_score': 4.429485, '_source': {'text': 'This is likely to be an error when indexing the data. First you need to add the index settings before adding the data to the indices, then you will be good to go applying your filters and query.', 'section': 'Module 1: Introduction', 'question': 'Returning Empty list after filtering my query (HW Q3)', 'course': 'llm-zoomcamp', 'document_id': '190fc999'}}, {'_index': 'documents_20240819_5901', '_id': 'aFfcaZEBD4y5RrGedjEw', '_score': 4.118813, '_ignored': ['text.keyword'], '_source': {'text': 'Cosine similarity is a measure used to calculate the similarity between two non-zero vectors, often used in text analysis to determine how similar two documents are based on their content. This metric computes the cosine of the angle between two vectors, which are typically word counts or TF-IDF values of the documents. The cosine similarity value ranges from -1 to 1, where 1 indicates that the vectors are identical, 0 indicates that the vectors are orthogonal (no similarity), and -1 represents completely opposite vectors.', 'section': 'Module 3: X', 'question': 'What is the cosine similarity?', 'course': 'llm-zoomcamp', 'document_id': 'ee355823'}}, {'_index': 'documents_20240819_5901', '_id': 'hFfcaZEBD4y5RrGedjFg', '_score': 4.00062, '_source': {'text': 'The error indicates that you have not changed all instances of “employee_handbook” to “homework” in your pipeline settings', 'section': 'Workshops: dlthub', 'question': 'There is an error when opening the table using dbtable = db.open_table(\"notion_pages___homework\"): FileNotFoundError: Table notion_pages___homework does not exist.Please first call db.create_table(notion_pages___homework, data)', 'course': 'llm-zoomcamp', 'document_id': '6cf805ca'}}]}}\n",
      "TFfcaZEBD4y5RrGedTH5\n"
     ]
    }
   ],
   "source": [
    "response = es_client.search(\n",
    "    index=index_name,\n",
    "    body={\n",
    "        \"size\": 5,\n",
    "        \"query\": query,\n",
    "    },\n",
    ")\n",
    "\n",
    "print(\"Raw response from Elasticsearch:\", response)\n",
    "print(response['hits']['hits'][0]['_id'])"
   ]
  },
  {
   "cell_type": "code",
   "execution_count": null,
   "metadata": {},
   "outputs": [],
   "source": []
  }
 ],
 "metadata": {
  "kernelspec": {
   "display_name": ".venv",
   "language": "python",
   "name": "python3"
  },
  "language_info": {
   "codemirror_mode": {
    "name": "ipython",
    "version": 3
   },
   "file_extension": ".py",
   "mimetype": "text/x-python",
   "name": "python",
   "nbconvert_exporter": "python",
   "pygments_lexer": "ipython3",
   "version": "3.11.5"
  }
 },
 "nbformat": 4,
 "nbformat_minor": 2
}
