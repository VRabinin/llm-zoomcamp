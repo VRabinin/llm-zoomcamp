{
 "cells": [
  {
   "cell_type": "code",
   "execution_count": 1,
   "id": "abe57561-7238-4823-9e70-12d6dfe0cc8e",
   "metadata": {},
   "outputs": [],
   "source": [
    "import openai"
   ]
  },
  {
   "cell_type": "code",
   "execution_count": 2,
   "id": "59f8f7ea-9af6-4c75-a0af-80933dc43e26",
   "metadata": {},
   "outputs": [],
   "source": [
    "from openai import OpenAI"
   ]
  },
  {
   "cell_type": "code",
   "execution_count": 3,
   "id": "f52b217c-265b-4697-9614-86a60570a421",
   "metadata": {},
   "outputs": [],
   "source": [
    "import os"
   ]
  },
  {
   "cell_type": "code",
   "execution_count": 5,
   "id": "ee2d9d35-af9f-4657-86c6-c4a4904d74e1",
   "metadata": {},
   "outputs": [],
   "source": [
    "client = OpenAI()"
   ]
  },
  {
   "cell_type": "code",
   "execution_count": 22,
   "id": "43045610-efe3-4455-86d9-a900566a4f33",
   "metadata": {},
   "outputs": [],
   "source": [
    "model = 'gpt-4o'"
   ]
  },
  {
   "cell_type": "code",
   "execution_count": 27,
   "id": "f83e26fc-fcb3-41b1-9491-f94472aaeef5",
   "metadata": {},
   "outputs": [],
   "source": [
    "response = client.chat.completions.create(model=model, \n",
    "                               messages=[{\"role\": \"user\", \"content\": \"is it too late to join the course?\"}])"
   ]
  },
  {
   "cell_type": "code",
   "execution_count": 28,
   "id": "18faced5-76b0-4fa7-8a4f-057ef1eebe15",
   "metadata": {},
   "outputs": [
    {
     "data": {
      "text/plain": [
       "\"I'm missing some context to give a precise answer. Could you provide more details about the course you're interested in? Generally, whether it's too late to join a course depends on factors like the enrollment deadline, the course structure (e.g., self-paced vs. scheduled), and any prerequisites that need to be met.\\n\\nIf the enrollment period is still open, you should be able to join. If the course has already started, some programs may allow late registration, especially for self-paced courses. However, for scheduled or cohort-based courses, joining late might mean missing out on essential initial material and class interactions, which could be challenging to catch up on.\\n\\nIt's best to check the specific course's website or contact the course's administration for the most accurate information.\""
      ]
     },
     "execution_count": 28,
     "metadata": {},
     "output_type": "execute_result"
    }
   ],
   "source": [
    "response.choices[0].message.content"
   ]
  }
 ],
 "metadata": {
  "kernelspec": {
   "display_name": "Python 3 (ipykernel)",
   "language": "python",
   "name": "python3"
  },
  "language_info": {
   "codemirror_mode": {
    "name": "ipython",
    "version": 3
   },
   "file_extension": ".py",
   "mimetype": "text/x-python",
   "name": "python",
   "nbconvert_exporter": "python",
   "pygments_lexer": "ipython3",
   "version": "3.10.13"
  }
 },
 "nbformat": 4,
 "nbformat_minor": 5
}
